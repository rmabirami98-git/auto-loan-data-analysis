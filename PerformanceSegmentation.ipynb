{
 "cells": [
  {
   "cell_type": "markdown",
   "id": "6695d053",
   "metadata": {},
   "source": [
    "# Import Lib"
   ]
  },
  {
   "cell_type": "code",
   "execution_count": 1,
   "id": "f660cc58",
   "metadata": {},
   "outputs": [],
   "source": [
    "import pandas as pd\n",
    "import numpy as np\n"
   ]
  },
  {
   "cell_type": "markdown",
   "id": "c598933d",
   "metadata": {},
   "source": [
    "# Load Data and Add Deposit Ratio Bin"
   ]
  },
  {
   "cell_type": "code",
   "execution_count": null,
   "id": "614d5465",
   "metadata": {},
   "outputs": [
    {
     "name": "stdout",
     "output_type": "stream",
     "text": [
      "Data loaded. Shape: (10000, 13)\n"
     ]
    }
   ],
   "source": [
    "\n",
    "df = pd.read_csv(\"cleaned_loan_data.csv\")\n",
    "\n",
    "\n",
    "# Bin Deposit Ratio\n",
    "ratio_bins = [0, 0.2, 0.4, 0.6, 0.8, np.inf]\n",
    "ratio_labels = ['<20%', '20-40%', '40-60%', '60-80%', '80%+']\n",
    "df['deposit_ratio_bin'] = pd.cut(df['depositratio'], bins=ratio_bins, labels=ratio_labels, right=False)\n",
    "print(\"Data loaded. Shape:\", df.shape) \n"
   ]
  },
  {
   "cell_type": "markdown",
   "id": "3f2216f6",
   "metadata": {},
   "source": [
    "# Segment & aggregate"
   ]
  },
  {
   "cell_type": "code",
   "execution_count": 3,
   "id": "30f6456a",
   "metadata": {},
   "outputs": [
    {
     "name": "stderr",
     "output_type": "stream",
     "text": [
      "C:\\Users\\lenovo\\AppData\\Local\\Temp\\ipykernel_16684\\1365657554.py:3: FutureWarning: The default of observed=False is deprecated and will be changed to True in a future version of pandas. Pass observed=False to retain current behavior or observed=True to adopt the future default and silence this warning.\n",
      "  df.groupby(['age_bucket','cartype','area', 'deposit_ratio_bin'])\n"
     ]
    }
   ],
   "source": [
    "# Segment categories and aggregate by loan performance\n",
    "segment_summary = (\n",
    "    df.groupby(['age_bucket','cartype','area', 'deposit_ratio_bin'])\n",
    "    .agg(\n",
    "        applications=('funded','count'),\n",
    "        approvals=('applicationoutcome', lambda x: (x==1).sum()),\n",
    "        approval_rate=('applicationoutcome', lambda x: (x==1).mean()),\n",
    "        conversion_rate=('funded','mean'),\n",
    "        avg_loan=('loanamount','mean'),\n",
    "        total_funded=('loanamount', lambda x: x[df.loc[x.index,'funded']==1].sum())\n",
    "    )\n",
    "    .reset_index()\n",
    ")"
   ]
  },
  {
   "cell_type": "markdown",
   "id": "49240105",
   "metadata": {},
   "source": [
    "# Rank segments"
   ]
  },
  {
   "cell_type": "code",
   "execution_count": 4,
   "id": "430fc2a0",
   "metadata": {},
   "outputs": [
    {
     "name": "stdout",
     "output_type": "stream",
     "text": [
      "🔝 Top (25%) High-Value Segments\n",
      "    age_bucket      cartype   area deposit_ratio_bin  applications  approvals  \\\n",
      "95         55+  Convertible  urban              <20%           223      215.0   \n",
      "65       45-54  Convertible  urban              <20%           191      169.0   \n",
      "90         55+  Convertible  rural              <20%           203      179.0   \n",
      "36       35-44  Convertible  urban            20-40%           141      121.0   \n",
      "105        55+          SUV  urban              <20%           137      131.0   \n",
      "60       45-54  Convertible  rural              <20%           194      146.0   \n",
      "30       35-44  Convertible  rural              <20%           176      139.0   \n",
      "5        25-34  Convertible  urban              <20%           161       83.0   \n",
      "35       35-44  Convertible  urban              <20%           152      114.0   \n",
      "96         55+  Convertible  urban            20-40%           112      108.0   \n",
      "91         55+  Convertible  rural            20-40%           129      101.0   \n",
      "61       45-54  Convertible  rural            20-40%           109       77.0   \n",
      "106        55+          SUV  urban            20-40%           137      124.0   \n",
      "66       45-54  Convertible  urban            20-40%            87       75.0   \n",
      "0        25-34  Convertible  rural              <20%           173       79.0   \n",
      "101        55+          SUV  rural            20-40%           158      140.0   \n",
      "75       45-54          SUV  urban              <20%           115       98.0   \n",
      "116        55+       Saloon  urban            20-40%           140      128.0   \n",
      "16       25-34          SUV  urban            20-40%           126       81.0   \n",
      "70       45-54          SUV  rural              <20%           129      109.0   \n",
      "46       35-44          SUV  urban            20-40%           112       89.0   \n",
      "55       35-44       Saloon  urban              <20%           117       98.0   \n",
      "76       45-54          SUV  urban            20-40%           128      112.0   \n",
      "115        55+       Saloon  urban              <20%           114      110.0   \n",
      "85       45-54       Saloon  urban              <20%           120      102.0   \n",
      "\n",
      "     approval_rate  conversion_rate      avg_loan  total_funded  \n",
      "95        0.964126         0.533632  19265.452915     2259771.0  \n",
      "65        0.884817         0.465969  19392.434555     1707373.0  \n",
      "90        0.881773         0.330049  18588.182266     1226901.0  \n",
      "36        0.858156         0.496454  16450.780142     1134551.0  \n",
      "105       0.956204         0.562044  13729.357664     1046025.0  \n",
      "60        0.752577         0.273196  18660.680412      998387.0  \n",
      "30        0.789773         0.295455  18588.954545      968278.0  \n",
      "5         0.515528         0.316770  18643.354037      949835.0  \n",
      "35        0.750000         0.328947  18648.907895      900368.0  \n",
      "96        0.964286         0.464286  16413.285714      874362.0  \n",
      "91        0.782946         0.434109  16092.860465      873542.0  \n",
      "61        0.706422         0.412844  16961.302752      770689.0  \n",
      "106       0.905109         0.489051  12006.562044      762398.0  \n",
      "66        0.862069         0.494253  16290.942529      738840.0  \n",
      "0         0.456647         0.225434  18118.352601      716633.0  \n",
      "101       0.886076         0.360759  11842.430380      707707.0  \n",
      "75        0.852174         0.391304  14113.321739      676147.0  \n",
      "116       0.914286         0.550000   8730.700000      641283.0  \n",
      "16        0.642857         0.396825  11736.992063      620901.0  \n",
      "70        0.844961         0.317829  14591.341085      603121.0  \n",
      "46        0.794643         0.410714  13025.375000      584626.0  \n",
      "55        0.837607         0.461538  10013.017094      576983.0  \n",
      "76        0.875000         0.437500  11025.585938      563719.0  \n",
      "115       0.964912         0.473684  10079.719298      546653.0  \n",
      "85        0.850000         0.450000   9745.916667      543518.0  \n",
      "\n",
      "🔻 Bottom (25%) Low-Value Segments\n",
      "    age_bucket      cartype   area deposit_ratio_bin  applications  approvals  \\\n",
      "8        25-34  Convertible  urban            60-80%             6        0.0   \n",
      "38       35-44  Convertible  urban            60-80%             1        1.0   \n",
      "68       45-54  Convertible  urban            60-80%             3        3.0   \n",
      "123        <25  Convertible  rural            60-80%             3        0.0   \n",
      "128        <25  Convertible  urban            60-80%             2        1.0   \n",
      "144        <25       Saloon  rural              80%+             6        2.0   \n",
      "134        <25          SUV  rural              80%+            11        3.0   \n",
      "149        <25       Saloon  urban              80%+             7        1.0   \n",
      "19       25-34          SUV  urban              80%+            18        4.0   \n",
      "28       25-34       Saloon  urban            60-80%            20       11.0   \n",
      "93         55+  Convertible  rural            60-80%             2        2.0   \n",
      "33       35-44  Convertible  rural            60-80%             1        1.0   \n",
      "138        <25          SUV  urban            60-80%            17        8.0   \n",
      "79       45-54          SUV  urban              80%+             4        4.0   \n",
      "132        <25          SUV  rural            40-60%            37       10.0   \n",
      "143        <25       Saloon  rural            60-80%            17        5.0   \n",
      "133        <25          SUV  rural            60-80%            14        3.0   \n",
      "148        <25       Saloon  urban            60-80%            15        4.0   \n",
      "74       45-54          SUV  rural              80%+            13        9.0   \n",
      "139        <25          SUV  urban              80%+            12        3.0   \n",
      "63       45-54  Convertible  rural            60-80%             5        3.0   \n",
      "113        55+       Saloon  rural            60-80%            12       10.0   \n",
      "24       25-34       Saloon  rural              80%+            13        8.0   \n",
      "98         55+  Convertible  urban            60-80%             3        3.0   \n",
      "29       25-34       Saloon  urban              80%+            15        7.0   \n",
      "\n",
      "     approval_rate  conversion_rate     avg_loan  total_funded  \n",
      "8         0.000000         0.000000  8480.166667           0.0  \n",
      "38        1.000000         0.000000  8790.000000           0.0  \n",
      "68        1.000000         0.000000  9062.333333           0.0  \n",
      "123       0.000000         0.000000  8304.000000           0.0  \n",
      "128       0.500000         0.000000  8770.500000           0.0  \n",
      "144       0.333333         0.166667  4877.166667        4365.0  \n",
      "134       0.272727         0.090909  4345.909091        4750.0  \n",
      "149       0.142857         0.142857  4933.857143        5158.0  \n",
      "19        0.222222         0.055556  5353.833333        5212.0  \n",
      "28        0.550000         0.050000  5950.100000        5443.0  \n",
      "93        1.000000         0.500000  9146.500000        9417.0  \n",
      "33        1.000000         1.000000  9756.000000        9756.0  \n",
      "138       0.470588         0.117647  5721.764706       10015.0  \n",
      "79        1.000000         0.500000  5509.500000       10400.0  \n",
      "132       0.270270         0.054054  8956.135135       11065.0  \n",
      "143       0.294118         0.117647  6571.647059       11445.0  \n",
      "133       0.214286         0.142857  6105.928571       13249.0  \n",
      "148       0.266667         0.200000  5303.533333       14514.0  \n",
      "74        0.692308         0.230769  5044.769231       14893.0  \n",
      "139       0.250000         0.250000  4838.750000       15505.0  \n",
      "63        0.600000         0.400000  8549.600000       16720.0  \n",
      "113       0.833333         0.250000  6310.750000       18476.0  \n",
      "24        0.615385         0.307692  4874.307692       18929.0  \n",
      "98        1.000000         0.666667  9551.333333       19446.0  \n",
      "29        0.466667         0.200000  5502.266667       19464.0  \n"
     ]
    }
   ],
   "source": [
    "import math\n",
    "\n",
    "n = 25  # Top and bottom n segments\n",
    "rank = math.ceil(n * len(segment_summary)/100)\n",
    "\n",
    "# Sort by total funded loans\n",
    "top_segments = segment_summary.sort_values('total_funded', ascending=False).head(n)\n",
    "bottom_segments = segment_summary.sort_values('total_funded', ascending=True).head(n)\n",
    "\n",
    "print(\"🔝 Top (25%) High-Value Segments\")\n",
    "print(top_segments)\n",
    "\n",
    "print(\"\\n🔻 Bottom (25%) Low-Value Segments\")\n",
    "print(bottom_segments)\n"
   ]
  },
  {
   "cell_type": "code",
   "execution_count": null,
   "id": "6cce502c",
   "metadata": {},
   "outputs": [],
   "source": []
  }
 ],
 "metadata": {
  "kernelspec": {
   "display_name": ".venv",
   "language": "python",
   "name": "python3"
  },
  "language_info": {
   "codemirror_mode": {
    "name": "ipython",
    "version": 3
   },
   "file_extension": ".py",
   "mimetype": "text/x-python",
   "name": "python",
   "nbconvert_exporter": "python",
   "pygments_lexer": "ipython3",
   "version": "3.13.7"
  }
 },
 "nbformat": 4,
 "nbformat_minor": 5
}

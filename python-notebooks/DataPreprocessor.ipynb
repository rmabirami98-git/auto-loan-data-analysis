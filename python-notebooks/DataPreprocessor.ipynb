{
 "cells": [
  {
   "cell_type": "markdown",
   "id": "920801e8",
   "metadata": {},
   "source": [
    "# Importing Required Libraries\n"
   ]
  },
  {
   "cell_type": "code",
   "execution_count": 1,
   "id": "d1f59c70",
   "metadata": {},
   "outputs": [],
   "source": [
    "import pandas as pd\n",
    "import numpy as np"
   ]
  },
  {
   "cell_type": "markdown",
   "id": "43f47d7b",
   "metadata": {},
   "source": [
    "# Loading the required Data"
   ]
  },
  {
   "cell_type": "code",
   "execution_count": 2,
   "id": "7903bfc2",
   "metadata": {},
   "outputs": [
    {
     "name": "stdout",
     "output_type": "stream",
     "text": [
      "     ID  age     car_type  Loanamount    Deposit    area   APR  \\\n",
      "0  9997   61  Convertible   £24,108.00    £881.00  rural  0.15   \n",
      "1  9996   42       Saloon    £5,988.00    £967.00  rural  0.20   \n",
      "2  9995   57       Saloon    £5,099.00    £973.00  urban  0.15   \n",
      "3  9994   32  Convertible   £20,774.00  £1,478.00  rural   NaN   \n",
      "4  9993   29       Saloon    £4,612.00    £774.00  urban   NaN   \n",
      "\n",
      "  application_outcome Funded   \n",
      "0            approved      No  \n",
      "1            approved      No  \n",
      "2            approved      No  \n",
      "3            declined     NaN  \n",
      "4            declined     NaN  \n"
     ]
    }
   ],
   "source": [
    "# Load Data \n",
    "df = pd.read_csv(\"Case_Study_for_Data_Test_25.csv\", encoding=\"latin1\")\n",
    "print(df.head())\n"
   ]
  },
  {
   "cell_type": "markdown",
   "id": "bb3e004e",
   "metadata": {},
   "source": [
    "# Initial Data Exploration"
   ]
  },
  {
   "cell_type": "code",
   "execution_count": 3,
   "id": "cdea6811",
   "metadata": {},
   "outputs": [
    {
     "name": "stdout",
     "output_type": "stream",
     "text": [
      "\n",
      "Shape of the DataFrame: (10000, 9)\n",
      "\n",
      "Columns: ['ID', 'age', 'car_type', ' Loanamount ', ' Deposit ', 'area', 'APR', 'application_outcome', 'Funded ']\n",
      "Number of duplicate rows: 0\n",
      "\n",
      "DataFrame Info:\n",
      "<class 'pandas.core.frame.DataFrame'>\n",
      "RangeIndex: 10000 entries, 0 to 9999\n",
      "Data columns (total 9 columns):\n",
      " #   Column               Non-Null Count  Dtype  \n",
      "---  ------               --------------  -----  \n",
      " 0   ID                   10000 non-null  int64  \n",
      " 1   age                  10000 non-null  int64  \n",
      " 2   car_type             10000 non-null  object \n",
      " 3    Loanamount          10000 non-null  object \n",
      " 4    Deposit             10000 non-null  object \n",
      " 5   area                 10000 non-null  object \n",
      " 6   APR                  6470 non-null   float64\n",
      " 7   application_outcome  10000 non-null  object \n",
      " 8   Funded               6470 non-null   object \n",
      "dtypes: float64(1), int64(2), object(6)\n",
      "memory usage: 703.3+ KB\n",
      "None\n"
     ]
    }
   ],
   "source": [
    "# Display Shape of the DataFrame\n",
    "print(f\"\\nShape of the DataFrame: {df.shape}\")\n",
    "\n",
    "# Display Columns in the DataFrame\n",
    "print(f\"\\nColumns: {df.columns.tolist()}\")\n",
    "\n",
    "# Check for duplicate rows\n",
    "duplicates = df.duplicated().sum()\n",
    "print(f\"Number of duplicate rows: {duplicates}\")\n",
    "\n",
    "# Display Info about the DataFrame\n",
    "print(\"\\nDataFrame Info:\")\n",
    "print(df.info())\n"
   ]
  },
  {
   "cell_type": "markdown",
   "id": "f12263a8",
   "metadata": {},
   "source": [
    "# Standardize Column names"
   ]
  },
  {
   "cell_type": "code",
   "execution_count": 4,
   "id": "7e5e6edd",
   "metadata": {},
   "outputs": [
    {
     "name": "stdout",
     "output_type": "stream",
     "text": [
      "\n",
      "Columns: ['id', 'age', 'cartype', 'loanamount', 'deposit', 'area', 'apr', 'applicationoutcome', 'funded']\n"
     ]
    }
   ],
   "source": [
    "# Rename columns to remove spaces, '_' and convert to lowercase\n",
    "df.columns = [c.strip().lower().replace(\"_\", \"\") for c in df.columns]\n",
    "print(f\"\\nColumns: {df.columns.tolist()}\")"
   ]
  },
  {
   "cell_type": "markdown",
   "id": "505cfcb4",
   "metadata": {},
   "source": [
    "# Preprocess loanamount & deposit"
   ]
  },
  {
   "cell_type": "code",
   "execution_count": 5,
   "id": "241603d7",
   "metadata": {},
   "outputs": [
    {
     "name": "stdout",
     "output_type": "stream",
     "text": [
      "     id  age      cartype  loanamount  deposit   area   apr  \\\n",
      "0  9997   61  Convertible     24108.0    881.0  rural  0.15   \n",
      "1  9996   42       Saloon      5988.0    967.0  rural  0.20   \n",
      "2  9995   57       Saloon      5099.0    973.0  urban  0.15   \n",
      "3  9994   32  Convertible     20774.0   1478.0  rural   NaN   \n",
      "4  9993   29       Saloon      4612.0    774.0  urban   NaN   \n",
      "\n",
      "  applicationoutcome funded  \n",
      "0           approved     No  \n",
      "1           approved     No  \n",
      "2           approved     No  \n",
      "3           declined    NaN  \n",
      "4           declined    NaN  \n"
     ]
    }
   ],
   "source": [
    "# Remove £ and Convert to Numeric Columns\n",
    "for col in [\"loanamount\", \"deposit\"]:\n",
    "    df[col] = (\n",
    "        df[col]\n",
    "        .astype(str)\n",
    "        .str.replace(\"[£$,]\", \"\", regex=True)\n",
    "        .str.strip()\n",
    "        .replace(\"\", np.nan)\n",
    "        .astype(float)\n",
    "    )\n",
    "print(df.head())"
   ]
  },
  {
   "cell_type": "markdown",
   "id": "024ffd59",
   "metadata": {},
   "source": [
    "# Preprocess applicationoutcome & funded"
   ]
  },
  {
   "cell_type": "code",
   "execution_count": 6,
   "id": "8ac43d89",
   "metadata": {},
   "outputs": [
    {
     "name": "stdout",
     "output_type": "stream",
     "text": [
      "     id  age      cartype  loanamount  deposit   area   apr  \\\n",
      "0  9997   61  Convertible     24108.0    881.0  rural  0.15   \n",
      "1  9996   42       Saloon      5988.0    967.0  rural  0.20   \n",
      "2  9995   57       Saloon      5099.0    973.0  urban  0.15   \n",
      "3  9994   32  Convertible     20774.0   1478.0  rural   NaN   \n",
      "4  9993   29       Saloon      4612.0    774.0  urban   NaN   \n",
      "\n",
      "   applicationoutcome  funded  \n",
      "0                   1     0.0  \n",
      "1                   1     0.0  \n",
      "2                   1     0.0  \n",
      "3                   0     NaN  \n",
      "4                   0     NaN  \n"
     ]
    }
   ],
   "source": [
    "# Encoding categories approved/declined to 1/0 and yes/no to 1/0\n",
    "df[\"applicationoutcome\"] = df[\"applicationoutcome\"].str.strip().str.lower().map({\"approved\": 1, \"declined\": 0})\n",
    "df[\"funded\"] = df[\"funded\"].str.strip().str.lower().map({\"yes\": 1, \"no\": 0})\n",
    "print(df.head())\n"
   ]
  },
  {
   "cell_type": "markdown",
   "id": "74495463",
   "metadata": {},
   "source": [
    "# Impute Missing Values"
   ]
  },
  {
   "cell_type": "code",
   "execution_count": 7,
   "id": "b747ee09",
   "metadata": {},
   "outputs": [
    {
     "name": "stdout",
     "output_type": "stream",
     "text": [
      "     id  age      cartype  loanamount  deposit   area   apr  \\\n",
      "0  9997   61  Convertible     24108.0    881.0  rural  0.15   \n",
      "1  9996   42       Saloon      5988.0    967.0  rural  0.20   \n",
      "2  9995   57       Saloon      5099.0    973.0  urban  0.15   \n",
      "3  9994   32  Convertible     20774.0   1478.0  rural  0.00   \n",
      "4  9993   29       Saloon      4612.0    774.0  urban  0.00   \n",
      "\n",
      "   applicationoutcome  funded  \n",
      "0                   1       0  \n",
      "1                   1       0  \n",
      "2                   1       0  \n",
      "3                   0       0  \n",
      "4                   0       0  \n"
     ]
    }
   ],
   "source": [
    "# Fill missing values with 0 for apr and funded\n",
    "df = df.fillna({'apr': 0})\n",
    "df[\"funded\"] = df[\"funded\"].fillna(0).astype(int)\n",
    "print(df.head())"
   ]
  },
  {
   "cell_type": "markdown",
   "id": "aabd5064",
   "metadata": {},
   "source": [
    "# Create Additional Features"
   ]
  },
  {
   "cell_type": "code",
   "execution_count": 8,
   "id": "4295b5d7",
   "metadata": {},
   "outputs": [
    {
     "name": "stdout",
     "output_type": "stream",
     "text": [
      "     id  age      cartype  loanamount  deposit   area   apr  \\\n",
      "0  9997   61  Convertible     24108.0    881.0  rural  0.15   \n",
      "1  9996   42       Saloon      5988.0    967.0  rural  0.20   \n",
      "2  9995   57       Saloon      5099.0    973.0  urban  0.15   \n",
      "3  9994   32  Convertible     20774.0   1478.0  rural  0.00   \n",
      "4  9993   29       Saloon      4612.0    774.0  urban  0.00   \n",
      "\n",
      "   applicationoutcome  funded age_bucket  depositratio apr_pct  \n",
      "0                   1       0        55+      0.036544     15%  \n",
      "1                   1       0      35-44      0.161490     20%  \n",
      "2                   1       0        55+      0.190822     15%  \n",
      "3                   0       0      25-34      0.071147      0%  \n",
      "4                   0       0      25-34      0.167823      0%  \n"
     ]
    }
   ],
   "source": [
    "# 1. Age buckets\n",
    "age_bins = [0, 24, 34, 44, 54, 65]\n",
    "age_labels = ['<25', '25-34', '35-44', '45-54', '55+']\n",
    "df['age_bucket'] = pd.cut(df['age'], bins=age_bins, labels=age_labels, right=True)\n",
    "\n",
    "# 2. Deposit-to-loan ratio\n",
    "df['depositratio'] = df['deposit'] / (df['loanamount'] + 1e-9)  # epsilon to avoid divide-by-zero\n",
    "\n",
    "# 3. APR percentage buckets\n",
    "apr_bins = [0, 5, 10, 15, 20, 25, np.inf]\n",
    "apr_labels = ['0%','5%', '10%', '15%', '20%', '25%']\n",
    "df['apr_pct'] = pd.cut(df['apr']*100, bins=apr_bins, labels=apr_labels, right=False)\n",
    "\n",
    "print(df.head())"
   ]
  },
  {
   "cell_type": "markdown",
   "id": "2e0f497e",
   "metadata": {},
   "source": [
    "# Describe preprocessed clean data"
   ]
  },
  {
   "cell_type": "code",
   "execution_count": 9,
   "id": "80af9c12",
   "metadata": {},
   "outputs": [
    {
     "name": "stdout",
     "output_type": "stream",
     "text": [
      "\n",
      "Dataframe Description:\n"
     ]
    },
    {
     "data": {
      "text/html": [
       "<div>\n",
       "<style scoped>\n",
       "    .dataframe tbody tr th:only-of-type {\n",
       "        vertical-align: middle;\n",
       "    }\n",
       "\n",
       "    .dataframe tbody tr th {\n",
       "        vertical-align: top;\n",
       "    }\n",
       "\n",
       "    .dataframe thead th {\n",
       "        text-align: right;\n",
       "    }\n",
       "</style>\n",
       "<table border=\"1\" class=\"dataframe\">\n",
       "  <thead>\n",
       "    <tr style=\"text-align: right;\">\n",
       "      <th></th>\n",
       "      <th>id</th>\n",
       "      <th>age</th>\n",
       "      <th>cartype</th>\n",
       "      <th>loanamount</th>\n",
       "      <th>deposit</th>\n",
       "      <th>area</th>\n",
       "      <th>apr</th>\n",
       "      <th>applicationoutcome</th>\n",
       "      <th>funded</th>\n",
       "      <th>age_bucket</th>\n",
       "      <th>depositratio</th>\n",
       "      <th>apr_pct</th>\n",
       "    </tr>\n",
       "  </thead>\n",
       "  <tbody>\n",
       "    <tr>\n",
       "      <th>count</th>\n",
       "      <td>10000.00000</td>\n",
       "      <td>10000.000000</td>\n",
       "      <td>10000</td>\n",
       "      <td>10000.000000</td>\n",
       "      <td>10000.000000</td>\n",
       "      <td>10000</td>\n",
       "      <td>10000.00000</td>\n",
       "      <td>10000.000000</td>\n",
       "      <td>10000.000000</td>\n",
       "      <td>10000</td>\n",
       "      <td>10000.000000</td>\n",
       "      <td>10000</td>\n",
       "    </tr>\n",
       "    <tr>\n",
       "      <th>unique</th>\n",
       "      <td>NaN</td>\n",
       "      <td>NaN</td>\n",
       "      <td>3</td>\n",
       "      <td>NaN</td>\n",
       "      <td>NaN</td>\n",
       "      <td>2</td>\n",
       "      <td>NaN</td>\n",
       "      <td>NaN</td>\n",
       "      <td>NaN</td>\n",
       "      <td>5</td>\n",
       "      <td>NaN</td>\n",
       "      <td>6</td>\n",
       "    </tr>\n",
       "    <tr>\n",
       "      <th>top</th>\n",
       "      <td>NaN</td>\n",
       "      <td>NaN</td>\n",
       "      <td>SUV</td>\n",
       "      <td>NaN</td>\n",
       "      <td>NaN</td>\n",
       "      <td>rural</td>\n",
       "      <td>NaN</td>\n",
       "      <td>NaN</td>\n",
       "      <td>NaN</td>\n",
       "      <td>25-34</td>\n",
       "      <td>NaN</td>\n",
       "      <td>0%</td>\n",
       "    </tr>\n",
       "    <tr>\n",
       "      <th>freq</th>\n",
       "      <td>NaN</td>\n",
       "      <td>NaN</td>\n",
       "      <td>3830</td>\n",
       "      <td>NaN</td>\n",
       "      <td>NaN</td>\n",
       "      <td>5290</td>\n",
       "      <td>NaN</td>\n",
       "      <td>NaN</td>\n",
       "      <td>NaN</td>\n",
       "      <td>2640</td>\n",
       "      <td>NaN</td>\n",
       "      <td>3530</td>\n",
       "    </tr>\n",
       "    <tr>\n",
       "      <th>mean</th>\n",
       "      <td>5000.50000</td>\n",
       "      <td>40.477400</td>\n",
       "      <td>NaN</td>\n",
       "      <td>11920.430200</td>\n",
       "      <td>2668.142100</td>\n",
       "      <td>NaN</td>\n",
       "      <td>0.09628</td>\n",
       "      <td>0.647000</td>\n",
       "      <td>0.306900</td>\n",
       "      <td>NaN</td>\n",
       "      <td>0.266187</td>\n",
       "      <td>NaN</td>\n",
       "    </tr>\n",
       "    <tr>\n",
       "      <th>std</th>\n",
       "      <td>2886.89568</td>\n",
       "      <td>14.015903</td>\n",
       "      <td>NaN</td>\n",
       "      <td>5882.825283</td>\n",
       "      <td>1669.184029</td>\n",
       "      <td>NaN</td>\n",
       "      <td>0.08784</td>\n",
       "      <td>0.477927</td>\n",
       "      <td>0.461231</td>\n",
       "      <td>NaN</td>\n",
       "      <td>0.192726</td>\n",
       "      <td>NaN</td>\n",
       "    </tr>\n",
       "    <tr>\n",
       "      <th>min</th>\n",
       "      <td>1.00000</td>\n",
       "      <td>18.000000</td>\n",
       "      <td>NaN</td>\n",
       "      <td>2502.000000</td>\n",
       "      <td>500.000000</td>\n",
       "      <td>NaN</td>\n",
       "      <td>0.00000</td>\n",
       "      <td>0.000000</td>\n",
       "      <td>0.000000</td>\n",
       "      <td>NaN</td>\n",
       "      <td>0.020134</td>\n",
       "      <td>NaN</td>\n",
       "    </tr>\n",
       "    <tr>\n",
       "      <th>25%</th>\n",
       "      <td>2500.75000</td>\n",
       "      <td>27.000000</td>\n",
       "      <td>NaN</td>\n",
       "      <td>7527.250000</td>\n",
       "      <td>1106.000000</td>\n",
       "      <td>NaN</td>\n",
       "      <td>0.00000</td>\n",
       "      <td>0.000000</td>\n",
       "      <td>0.000000</td>\n",
       "      <td>NaN</td>\n",
       "      <td>0.112256</td>\n",
       "      <td>NaN</td>\n",
       "    </tr>\n",
       "    <tr>\n",
       "      <th>50%</th>\n",
       "      <td>5000.50000</td>\n",
       "      <td>40.000000</td>\n",
       "      <td>NaN</td>\n",
       "      <td>11218.500000</td>\n",
       "      <td>2364.500000</td>\n",
       "      <td>NaN</td>\n",
       "      <td>0.10000</td>\n",
       "      <td>1.000000</td>\n",
       "      <td>0.000000</td>\n",
       "      <td>NaN</td>\n",
       "      <td>0.220400</td>\n",
       "      <td>NaN</td>\n",
       "    </tr>\n",
       "    <tr>\n",
       "      <th>75%</th>\n",
       "      <td>7500.25000</td>\n",
       "      <td>53.000000</td>\n",
       "      <td>NaN</td>\n",
       "      <td>15922.750000</td>\n",
       "      <td>4079.250000</td>\n",
       "      <td>NaN</td>\n",
       "      <td>0.15000</td>\n",
       "      <td>1.000000</td>\n",
       "      <td>1.000000</td>\n",
       "      <td>NaN</td>\n",
       "      <td>0.354381</td>\n",
       "      <td>NaN</td>\n",
       "    </tr>\n",
       "    <tr>\n",
       "      <th>max</th>\n",
       "      <td>10000.00000</td>\n",
       "      <td>65.000000</td>\n",
       "      <td>NaN</td>\n",
       "      <td>26986.000000</td>\n",
       "      <td>6000.000000</td>\n",
       "      <td>NaN</td>\n",
       "      <td>0.25000</td>\n",
       "      <td>1.000000</td>\n",
       "      <td>1.000000</td>\n",
       "      <td>NaN</td>\n",
       "      <td>0.999573</td>\n",
       "      <td>NaN</td>\n",
       "    </tr>\n",
       "  </tbody>\n",
       "</table>\n",
       "</div>"
      ],
      "text/plain": [
       "                 id           age cartype    loanamount       deposit   area  \\\n",
       "count   10000.00000  10000.000000   10000  10000.000000  10000.000000  10000   \n",
       "unique          NaN           NaN       3           NaN           NaN      2   \n",
       "top             NaN           NaN     SUV           NaN           NaN  rural   \n",
       "freq            NaN           NaN    3830           NaN           NaN   5290   \n",
       "mean     5000.50000     40.477400     NaN  11920.430200   2668.142100    NaN   \n",
       "std      2886.89568     14.015903     NaN   5882.825283   1669.184029    NaN   \n",
       "min         1.00000     18.000000     NaN   2502.000000    500.000000    NaN   \n",
       "25%      2500.75000     27.000000     NaN   7527.250000   1106.000000    NaN   \n",
       "50%      5000.50000     40.000000     NaN  11218.500000   2364.500000    NaN   \n",
       "75%      7500.25000     53.000000     NaN  15922.750000   4079.250000    NaN   \n",
       "max     10000.00000     65.000000     NaN  26986.000000   6000.000000    NaN   \n",
       "\n",
       "                apr  applicationoutcome        funded age_bucket  \\\n",
       "count   10000.00000        10000.000000  10000.000000      10000   \n",
       "unique          NaN                 NaN           NaN          5   \n",
       "top             NaN                 NaN           NaN      25-34   \n",
       "freq            NaN                 NaN           NaN       2640   \n",
       "mean        0.09628            0.647000      0.306900        NaN   \n",
       "std         0.08784            0.477927      0.461231        NaN   \n",
       "min         0.00000            0.000000      0.000000        NaN   \n",
       "25%         0.00000            0.000000      0.000000        NaN   \n",
       "50%         0.10000            1.000000      0.000000        NaN   \n",
       "75%         0.15000            1.000000      1.000000        NaN   \n",
       "max         0.25000            1.000000      1.000000        NaN   \n",
       "\n",
       "        depositratio apr_pct  \n",
       "count   10000.000000   10000  \n",
       "unique           NaN       6  \n",
       "top              NaN      0%  \n",
       "freq             NaN    3530  \n",
       "mean        0.266187     NaN  \n",
       "std         0.192726     NaN  \n",
       "min         0.020134     NaN  \n",
       "25%         0.112256     NaN  \n",
       "50%         0.220400     NaN  \n",
       "75%         0.354381     NaN  \n",
       "max         0.999573     NaN  "
      ]
     },
     "execution_count": 9,
     "metadata": {},
     "output_type": "execute_result"
    }
   ],
   "source": [
    "print(\"\\nDataframe Description:\")\n",
    "df.describe(include='all')"
   ]
  },
  {
   "cell_type": "markdown",
   "id": "3db9e6e9",
   "metadata": {},
   "source": [
    "# Saving the cleaned data"
   ]
  },
  {
   "cell_type": "code",
   "execution_count": 10,
   "id": "2e38a2c1",
   "metadata": {},
   "outputs": [
    {
     "ename": "PermissionError",
     "evalue": "[Errno 13] Permission denied: 'cleaned_loan_data.csv'",
     "output_type": "error",
     "traceback": [
      "\u001b[31m---------------------------------------------------------------------------\u001b[39m",
      "\u001b[31mPermissionError\u001b[39m                           Traceback (most recent call last)",
      "\u001b[36mCell\u001b[39m\u001b[36m \u001b[39m\u001b[32mIn[10]\u001b[39m\u001b[32m, line 1\u001b[39m\n\u001b[32m----> \u001b[39m\u001b[32m1\u001b[39m \u001b[43mdf\u001b[49m\u001b[43m.\u001b[49m\u001b[43mto_csv\u001b[49m\u001b[43m(\u001b[49m\u001b[33;43m\"\u001b[39;49m\u001b[33;43mcleaned_loan_data.csv\u001b[39;49m\u001b[33;43m\"\u001b[39;49m\u001b[43m,\u001b[49m\u001b[43m \u001b[49m\u001b[43mindex\u001b[49m\u001b[43m=\u001b[49m\u001b[38;5;28;43;01mFalse\u001b[39;49;00m\u001b[43m)\u001b[49m\n",
      "\u001b[36mFile \u001b[39m\u001b[32me:\\Abi\\.venv\\Lib\\site-packages\\pandas\\util\\_decorators.py:333\u001b[39m, in \u001b[36mdeprecate_nonkeyword_arguments.<locals>.decorate.<locals>.wrapper\u001b[39m\u001b[34m(*args, **kwargs)\u001b[39m\n\u001b[32m    327\u001b[39m \u001b[38;5;28;01mif\u001b[39;00m \u001b[38;5;28mlen\u001b[39m(args) > num_allow_args:\n\u001b[32m    328\u001b[39m     warnings.warn(\n\u001b[32m    329\u001b[39m         msg.format(arguments=_format_argument_list(allow_args)),\n\u001b[32m    330\u001b[39m         \u001b[38;5;167;01mFutureWarning\u001b[39;00m,\n\u001b[32m    331\u001b[39m         stacklevel=find_stack_level(),\n\u001b[32m    332\u001b[39m     )\n\u001b[32m--> \u001b[39m\u001b[32m333\u001b[39m \u001b[38;5;28;01mreturn\u001b[39;00m \u001b[43mfunc\u001b[49m\u001b[43m(\u001b[49m\u001b[43m*\u001b[49m\u001b[43margs\u001b[49m\u001b[43m,\u001b[49m\u001b[43m \u001b[49m\u001b[43m*\u001b[49m\u001b[43m*\u001b[49m\u001b[43mkwargs\u001b[49m\u001b[43m)\u001b[49m\n",
      "\u001b[36mFile \u001b[39m\u001b[32me:\\Abi\\.venv\\Lib\\site-packages\\pandas\\core\\generic.py:3986\u001b[39m, in \u001b[36mNDFrame.to_csv\u001b[39m\u001b[34m(self, path_or_buf, sep, na_rep, float_format, columns, header, index, index_label, mode, encoding, compression, quoting, quotechar, lineterminator, chunksize, date_format, doublequote, escapechar, decimal, errors, storage_options)\u001b[39m\n\u001b[32m   3975\u001b[39m df = \u001b[38;5;28mself\u001b[39m \u001b[38;5;28;01mif\u001b[39;00m \u001b[38;5;28misinstance\u001b[39m(\u001b[38;5;28mself\u001b[39m, ABCDataFrame) \u001b[38;5;28;01melse\u001b[39;00m \u001b[38;5;28mself\u001b[39m.to_frame()\n\u001b[32m   3977\u001b[39m formatter = DataFrameFormatter(\n\u001b[32m   3978\u001b[39m     frame=df,\n\u001b[32m   3979\u001b[39m     header=header,\n\u001b[32m   (...)\u001b[39m\u001b[32m   3983\u001b[39m     decimal=decimal,\n\u001b[32m   3984\u001b[39m )\n\u001b[32m-> \u001b[39m\u001b[32m3986\u001b[39m \u001b[38;5;28;01mreturn\u001b[39;00m \u001b[43mDataFrameRenderer\u001b[49m\u001b[43m(\u001b[49m\u001b[43mformatter\u001b[49m\u001b[43m)\u001b[49m\u001b[43m.\u001b[49m\u001b[43mto_csv\u001b[49m\u001b[43m(\u001b[49m\n\u001b[32m   3987\u001b[39m \u001b[43m    \u001b[49m\u001b[43mpath_or_buf\u001b[49m\u001b[43m,\u001b[49m\n\u001b[32m   3988\u001b[39m \u001b[43m    \u001b[49m\u001b[43mlineterminator\u001b[49m\u001b[43m=\u001b[49m\u001b[43mlineterminator\u001b[49m\u001b[43m,\u001b[49m\n\u001b[32m   3989\u001b[39m \u001b[43m    \u001b[49m\u001b[43msep\u001b[49m\u001b[43m=\u001b[49m\u001b[43msep\u001b[49m\u001b[43m,\u001b[49m\n\u001b[32m   3990\u001b[39m \u001b[43m    \u001b[49m\u001b[43mencoding\u001b[49m\u001b[43m=\u001b[49m\u001b[43mencoding\u001b[49m\u001b[43m,\u001b[49m\n\u001b[32m   3991\u001b[39m \u001b[43m    \u001b[49m\u001b[43merrors\u001b[49m\u001b[43m=\u001b[49m\u001b[43merrors\u001b[49m\u001b[43m,\u001b[49m\n\u001b[32m   3992\u001b[39m \u001b[43m    \u001b[49m\u001b[43mcompression\u001b[49m\u001b[43m=\u001b[49m\u001b[43mcompression\u001b[49m\u001b[43m,\u001b[49m\n\u001b[32m   3993\u001b[39m \u001b[43m    \u001b[49m\u001b[43mquoting\u001b[49m\u001b[43m=\u001b[49m\u001b[43mquoting\u001b[49m\u001b[43m,\u001b[49m\n\u001b[32m   3994\u001b[39m \u001b[43m    \u001b[49m\u001b[43mcolumns\u001b[49m\u001b[43m=\u001b[49m\u001b[43mcolumns\u001b[49m\u001b[43m,\u001b[49m\n\u001b[32m   3995\u001b[39m \u001b[43m    \u001b[49m\u001b[43mindex_label\u001b[49m\u001b[43m=\u001b[49m\u001b[43mindex_label\u001b[49m\u001b[43m,\u001b[49m\n\u001b[32m   3996\u001b[39m \u001b[43m    \u001b[49m\u001b[43mmode\u001b[49m\u001b[43m=\u001b[49m\u001b[43mmode\u001b[49m\u001b[43m,\u001b[49m\n\u001b[32m   3997\u001b[39m \u001b[43m    \u001b[49m\u001b[43mchunksize\u001b[49m\u001b[43m=\u001b[49m\u001b[43mchunksize\u001b[49m\u001b[43m,\u001b[49m\n\u001b[32m   3998\u001b[39m \u001b[43m    \u001b[49m\u001b[43mquotechar\u001b[49m\u001b[43m=\u001b[49m\u001b[43mquotechar\u001b[49m\u001b[43m,\u001b[49m\n\u001b[32m   3999\u001b[39m \u001b[43m    \u001b[49m\u001b[43mdate_format\u001b[49m\u001b[43m=\u001b[49m\u001b[43mdate_format\u001b[49m\u001b[43m,\u001b[49m\n\u001b[32m   4000\u001b[39m \u001b[43m    \u001b[49m\u001b[43mdoublequote\u001b[49m\u001b[43m=\u001b[49m\u001b[43mdoublequote\u001b[49m\u001b[43m,\u001b[49m\n\u001b[32m   4001\u001b[39m \u001b[43m    \u001b[49m\u001b[43mescapechar\u001b[49m\u001b[43m=\u001b[49m\u001b[43mescapechar\u001b[49m\u001b[43m,\u001b[49m\n\u001b[32m   4002\u001b[39m \u001b[43m    \u001b[49m\u001b[43mstorage_options\u001b[49m\u001b[43m=\u001b[49m\u001b[43mstorage_options\u001b[49m\u001b[43m,\u001b[49m\n\u001b[32m   4003\u001b[39m \u001b[43m\u001b[49m\u001b[43m)\u001b[49m\n",
      "\u001b[36mFile \u001b[39m\u001b[32me:\\Abi\\.venv\\Lib\\site-packages\\pandas\\io\\formats\\format.py:1014\u001b[39m, in \u001b[36mDataFrameRenderer.to_csv\u001b[39m\u001b[34m(self, path_or_buf, encoding, sep, columns, index_label, mode, compression, quoting, quotechar, lineterminator, chunksize, date_format, doublequote, escapechar, errors, storage_options)\u001b[39m\n\u001b[32m    993\u001b[39m     created_buffer = \u001b[38;5;28;01mFalse\u001b[39;00m\n\u001b[32m    995\u001b[39m csv_formatter = CSVFormatter(\n\u001b[32m    996\u001b[39m     path_or_buf=path_or_buf,\n\u001b[32m    997\u001b[39m     lineterminator=lineterminator,\n\u001b[32m   (...)\u001b[39m\u001b[32m   1012\u001b[39m     formatter=\u001b[38;5;28mself\u001b[39m.fmt,\n\u001b[32m   1013\u001b[39m )\n\u001b[32m-> \u001b[39m\u001b[32m1014\u001b[39m \u001b[43mcsv_formatter\u001b[49m\u001b[43m.\u001b[49m\u001b[43msave\u001b[49m\u001b[43m(\u001b[49m\u001b[43m)\u001b[49m\n\u001b[32m   1016\u001b[39m \u001b[38;5;28;01mif\u001b[39;00m created_buffer:\n\u001b[32m   1017\u001b[39m     \u001b[38;5;28;01massert\u001b[39;00m \u001b[38;5;28misinstance\u001b[39m(path_or_buf, StringIO)\n",
      "\u001b[36mFile \u001b[39m\u001b[32me:\\Abi\\.venv\\Lib\\site-packages\\pandas\\io\\formats\\csvs.py:251\u001b[39m, in \u001b[36mCSVFormatter.save\u001b[39m\u001b[34m(self)\u001b[39m\n\u001b[32m    247\u001b[39m \u001b[38;5;250m\u001b[39m\u001b[33;03m\"\"\"\u001b[39;00m\n\u001b[32m    248\u001b[39m \u001b[33;03mCreate the writer & save.\u001b[39;00m\n\u001b[32m    249\u001b[39m \u001b[33;03m\"\"\"\u001b[39;00m\n\u001b[32m    250\u001b[39m \u001b[38;5;66;03m# apply compression and byte/text conversion\u001b[39;00m\n\u001b[32m--> \u001b[39m\u001b[32m251\u001b[39m \u001b[38;5;28;01mwith\u001b[39;00m \u001b[43mget_handle\u001b[49m\u001b[43m(\u001b[49m\n\u001b[32m    252\u001b[39m \u001b[43m    \u001b[49m\u001b[38;5;28;43mself\u001b[39;49m\u001b[43m.\u001b[49m\u001b[43mfilepath_or_buffer\u001b[49m\u001b[43m,\u001b[49m\n\u001b[32m    253\u001b[39m \u001b[43m    \u001b[49m\u001b[38;5;28;43mself\u001b[39;49m\u001b[43m.\u001b[49m\u001b[43mmode\u001b[49m\u001b[43m,\u001b[49m\n\u001b[32m    254\u001b[39m \u001b[43m    \u001b[49m\u001b[43mencoding\u001b[49m\u001b[43m=\u001b[49m\u001b[38;5;28;43mself\u001b[39;49m\u001b[43m.\u001b[49m\u001b[43mencoding\u001b[49m\u001b[43m,\u001b[49m\n\u001b[32m    255\u001b[39m \u001b[43m    \u001b[49m\u001b[43merrors\u001b[49m\u001b[43m=\u001b[49m\u001b[38;5;28;43mself\u001b[39;49m\u001b[43m.\u001b[49m\u001b[43merrors\u001b[49m\u001b[43m,\u001b[49m\n\u001b[32m    256\u001b[39m \u001b[43m    \u001b[49m\u001b[43mcompression\u001b[49m\u001b[43m=\u001b[49m\u001b[38;5;28;43mself\u001b[39;49m\u001b[43m.\u001b[49m\u001b[43mcompression\u001b[49m\u001b[43m,\u001b[49m\n\u001b[32m    257\u001b[39m \u001b[43m    \u001b[49m\u001b[43mstorage_options\u001b[49m\u001b[43m=\u001b[49m\u001b[38;5;28;43mself\u001b[39;49m\u001b[43m.\u001b[49m\u001b[43mstorage_options\u001b[49m\u001b[43m,\u001b[49m\n\u001b[32m    258\u001b[39m \u001b[43m\u001b[49m\u001b[43m)\u001b[49m \u001b[38;5;28;01mas\u001b[39;00m handles:\n\u001b[32m    259\u001b[39m     \u001b[38;5;66;03m# Note: self.encoding is irrelevant here\u001b[39;00m\n\u001b[32m    260\u001b[39m     \u001b[38;5;28mself\u001b[39m.writer = csvlib.writer(\n\u001b[32m    261\u001b[39m         handles.handle,\n\u001b[32m    262\u001b[39m         lineterminator=\u001b[38;5;28mself\u001b[39m.lineterminator,\n\u001b[32m   (...)\u001b[39m\u001b[32m    267\u001b[39m         quotechar=\u001b[38;5;28mself\u001b[39m.quotechar,\n\u001b[32m    268\u001b[39m     )\n\u001b[32m    270\u001b[39m     \u001b[38;5;28mself\u001b[39m._save()\n",
      "\u001b[36mFile \u001b[39m\u001b[32me:\\Abi\\.venv\\Lib\\site-packages\\pandas\\io\\common.py:873\u001b[39m, in \u001b[36mget_handle\u001b[39m\u001b[34m(path_or_buf, mode, encoding, compression, memory_map, is_text, errors, storage_options)\u001b[39m\n\u001b[32m    868\u001b[39m \u001b[38;5;28;01melif\u001b[39;00m \u001b[38;5;28misinstance\u001b[39m(handle, \u001b[38;5;28mstr\u001b[39m):\n\u001b[32m    869\u001b[39m     \u001b[38;5;66;03m# Check whether the filename is to be opened in binary mode.\u001b[39;00m\n\u001b[32m    870\u001b[39m     \u001b[38;5;66;03m# Binary mode does not support 'encoding' and 'newline'.\u001b[39;00m\n\u001b[32m    871\u001b[39m     \u001b[38;5;28;01mif\u001b[39;00m ioargs.encoding \u001b[38;5;129;01mand\u001b[39;00m \u001b[33m\"\u001b[39m\u001b[33mb\u001b[39m\u001b[33m\"\u001b[39m \u001b[38;5;129;01mnot\u001b[39;00m \u001b[38;5;129;01min\u001b[39;00m ioargs.mode:\n\u001b[32m    872\u001b[39m         \u001b[38;5;66;03m# Encoding\u001b[39;00m\n\u001b[32m--> \u001b[39m\u001b[32m873\u001b[39m         handle = \u001b[38;5;28;43mopen\u001b[39;49m\u001b[43m(\u001b[49m\n\u001b[32m    874\u001b[39m \u001b[43m            \u001b[49m\u001b[43mhandle\u001b[49m\u001b[43m,\u001b[49m\n\u001b[32m    875\u001b[39m \u001b[43m            \u001b[49m\u001b[43mioargs\u001b[49m\u001b[43m.\u001b[49m\u001b[43mmode\u001b[49m\u001b[43m,\u001b[49m\n\u001b[32m    876\u001b[39m \u001b[43m            \u001b[49m\u001b[43mencoding\u001b[49m\u001b[43m=\u001b[49m\u001b[43mioargs\u001b[49m\u001b[43m.\u001b[49m\u001b[43mencoding\u001b[49m\u001b[43m,\u001b[49m\n\u001b[32m    877\u001b[39m \u001b[43m            \u001b[49m\u001b[43merrors\u001b[49m\u001b[43m=\u001b[49m\u001b[43merrors\u001b[49m\u001b[43m,\u001b[49m\n\u001b[32m    878\u001b[39m \u001b[43m            \u001b[49m\u001b[43mnewline\u001b[49m\u001b[43m=\u001b[49m\u001b[33;43m\"\u001b[39;49m\u001b[33;43m\"\u001b[39;49m\u001b[43m,\u001b[49m\n\u001b[32m    879\u001b[39m \u001b[43m        \u001b[49m\u001b[43m)\u001b[49m\n\u001b[32m    880\u001b[39m     \u001b[38;5;28;01melse\u001b[39;00m:\n\u001b[32m    881\u001b[39m         \u001b[38;5;66;03m# Binary mode\u001b[39;00m\n\u001b[32m    882\u001b[39m         handle = \u001b[38;5;28mopen\u001b[39m(handle, ioargs.mode)\n",
      "\u001b[31mPermissionError\u001b[39m: [Errno 13] Permission denied: 'cleaned_loan_data.csv'"
     ]
    }
   ],
   "source": [
    "df.to_csv(\"cleaned_loan_data.csv\", index=False)"
   ]
  },
  {
   "cell_type": "code",
   "execution_count": null,
   "id": "25904388",
   "metadata": {},
   "outputs": [],
   "source": []
  }
 ],
 "metadata": {
  "kernelspec": {
   "display_name": ".venv",
   "language": "python",
   "name": "python3"
  },
  "language_info": {
   "codemirror_mode": {
    "name": "ipython",
    "version": 3
   },
   "file_extension": ".py",
   "mimetype": "text/x-python",
   "name": "python",
   "nbconvert_exporter": "python",
   "pygments_lexer": "ipython3",
   "version": "3.13.7"
  }
 },
 "nbformat": 4,
 "nbformat_minor": 5
}

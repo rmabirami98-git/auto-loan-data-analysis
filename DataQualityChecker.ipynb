{
 "cells": [
  {
   "cell_type": "markdown",
   "id": "0296124c",
   "metadata": {},
   "source": [
    "# Importing Required Libraries"
   ]
  },
  {
   "cell_type": "code",
   "execution_count": 11,
   "id": "ae61c7be",
   "metadata": {},
   "outputs": [],
   "source": [
    "import pandas as pd\n",
    "import numpy as np"
   ]
  },
  {
   "cell_type": "markdown",
   "id": "2619317a",
   "metadata": {},
   "source": [
    "# Loading the required Data"
   ]
  },
  {
   "cell_type": "code",
   "execution_count": 12,
   "id": "fd9665a5",
   "metadata": {},
   "outputs": [
    {
     "name": "stdout",
     "output_type": "stream",
     "text": [
      "Data loaded. Shape: (10000, 12)\n"
     ]
    },
    {
     "data": {
      "text/html": [
       "<div>\n",
       "<style scoped>\n",
       "    .dataframe tbody tr th:only-of-type {\n",
       "        vertical-align: middle;\n",
       "    }\n",
       "\n",
       "    .dataframe tbody tr th {\n",
       "        vertical-align: top;\n",
       "    }\n",
       "\n",
       "    .dataframe thead th {\n",
       "        text-align: right;\n",
       "    }\n",
       "</style>\n",
       "<table border=\"1\" class=\"dataframe\">\n",
       "  <thead>\n",
       "    <tr style=\"text-align: right;\">\n",
       "      <th></th>\n",
       "      <th>id</th>\n",
       "      <th>age</th>\n",
       "      <th>cartype</th>\n",
       "      <th>loanamount</th>\n",
       "      <th>deposit</th>\n",
       "      <th>area</th>\n",
       "      <th>apr</th>\n",
       "      <th>applicationoutcome</th>\n",
       "      <th>funded</th>\n",
       "      <th>age_bucket</th>\n",
       "      <th>depositratio</th>\n",
       "      <th>apr_pct</th>\n",
       "    </tr>\n",
       "  </thead>\n",
       "  <tbody>\n",
       "    <tr>\n",
       "      <th>0</th>\n",
       "      <td>9997</td>\n",
       "      <td>61</td>\n",
       "      <td>Convertible</td>\n",
       "      <td>24108.0</td>\n",
       "      <td>881.0</td>\n",
       "      <td>rural</td>\n",
       "      <td>0.15</td>\n",
       "      <td>1</td>\n",
       "      <td>0</td>\n",
       "      <td>55+</td>\n",
       "      <td>0.036544</td>\n",
       "      <td>15%</td>\n",
       "    </tr>\n",
       "    <tr>\n",
       "      <th>1</th>\n",
       "      <td>9996</td>\n",
       "      <td>42</td>\n",
       "      <td>Saloon</td>\n",
       "      <td>5988.0</td>\n",
       "      <td>967.0</td>\n",
       "      <td>rural</td>\n",
       "      <td>0.20</td>\n",
       "      <td>1</td>\n",
       "      <td>0</td>\n",
       "      <td>35-44</td>\n",
       "      <td>0.161490</td>\n",
       "      <td>20%</td>\n",
       "    </tr>\n",
       "    <tr>\n",
       "      <th>2</th>\n",
       "      <td>9995</td>\n",
       "      <td>57</td>\n",
       "      <td>Saloon</td>\n",
       "      <td>5099.0</td>\n",
       "      <td>973.0</td>\n",
       "      <td>urban</td>\n",
       "      <td>0.15</td>\n",
       "      <td>1</td>\n",
       "      <td>0</td>\n",
       "      <td>55+</td>\n",
       "      <td>0.190822</td>\n",
       "      <td>15%</td>\n",
       "    </tr>\n",
       "    <tr>\n",
       "      <th>3</th>\n",
       "      <td>9994</td>\n",
       "      <td>32</td>\n",
       "      <td>Convertible</td>\n",
       "      <td>20774.0</td>\n",
       "      <td>1478.0</td>\n",
       "      <td>rural</td>\n",
       "      <td>0.00</td>\n",
       "      <td>0</td>\n",
       "      <td>0</td>\n",
       "      <td>25-34</td>\n",
       "      <td>0.071147</td>\n",
       "      <td>0%</td>\n",
       "    </tr>\n",
       "    <tr>\n",
       "      <th>4</th>\n",
       "      <td>9993</td>\n",
       "      <td>29</td>\n",
       "      <td>Saloon</td>\n",
       "      <td>4612.0</td>\n",
       "      <td>774.0</td>\n",
       "      <td>urban</td>\n",
       "      <td>0.00</td>\n",
       "      <td>0</td>\n",
       "      <td>0</td>\n",
       "      <td>25-34</td>\n",
       "      <td>0.167823</td>\n",
       "      <td>0%</td>\n",
       "    </tr>\n",
       "  </tbody>\n",
       "</table>\n",
       "</div>"
      ],
      "text/plain": [
       "     id  age      cartype  loanamount  deposit   area   apr  \\\n",
       "0  9997   61  Convertible     24108.0    881.0  rural  0.15   \n",
       "1  9996   42       Saloon      5988.0    967.0  rural  0.20   \n",
       "2  9995   57       Saloon      5099.0    973.0  urban  0.15   \n",
       "3  9994   32  Convertible     20774.0   1478.0  rural  0.00   \n",
       "4  9993   29       Saloon      4612.0    774.0  urban  0.00   \n",
       "\n",
       "   applicationoutcome  funded age_bucket  depositratio apr_pct  \n",
       "0                   1       0        55+      0.036544     15%  \n",
       "1                   1       0      35-44      0.161490     20%  \n",
       "2                   1       0        55+      0.190822     15%  \n",
       "3                   0       0      25-34      0.071147      0%  \n",
       "4                   0       0      25-34      0.167823      0%  "
      ]
     },
     "execution_count": 12,
     "metadata": {},
     "output_type": "execute_result"
    }
   ],
   "source": [
    "# Load dataset\n",
    "df = pd.read_csv(\"cleaned_loan_data.csv\")\n",
    "print(\"Data loaded. Shape:\", df.shape)\n",
    "df.head()"
   ]
  },
  {
   "cell_type": "markdown",
   "id": "5f17f834",
   "metadata": {},
   "source": [
    "# Data Quality Checks"
   ]
  },
  {
   "cell_type": "markdown",
   "id": "bd1777b7",
   "metadata": {},
   "source": [
    "## Completeness Check"
   ]
  },
  {
   "cell_type": "code",
   "execution_count": 13,
   "id": "392e0d7f",
   "metadata": {},
   "outputs": [
    {
     "name": "stdout",
     "output_type": "stream",
     "text": [
      "Completeness check passed.\n"
     ]
    }
   ],
   "source": [
    "\"\"\"\n",
    "Completeness Check:\n",
    "- Ensure each field is not missing.\n",
    "- If all required fields are present, return 'Completeness check passed'.\n",
    "\"\"\"\n",
    "\n",
    "completeness = df.isnull().mean().to_dict()\n",
    "\n",
    "if max(completeness.values()) == 0:\n",
    "    print(\"Completeness check passed.\")\n",
    "else:\n",
    "    print(\"Missing values found.\")\n",
    "    print(completeness)\n"
   ]
  },
  {
   "cell_type": "markdown",
   "id": "41320f42",
   "metadata": {},
   "source": [
    "## Uniqueness Check"
   ]
  },
  {
   "cell_type": "code",
   "execution_count": 14,
   "id": "d3cbb9a5",
   "metadata": {},
   "outputs": [
    {
     "name": "stdout",
     "output_type": "stream",
     "text": [
      "Uniqueness check passed.\n"
     ]
    }
   ],
   "source": [
    "\"\"\"\n",
    "Uniqueness Check:\n",
    "- Ensure each row is unique (no duplicates).\n",
    "- If 100% unique, return 'Uniqueness check passed'.\n",
    "\"\"\"\n",
    "\n",
    "dup_pct = (1 - df.drop_duplicates().shape[0] / df.shape[0]) * 100\n",
    "\n",
    "if dup_pct == 0:\n",
    "    print(\"Uniqueness check passed.\")\n",
    "else:\n",
    "    print(f\"{dup_pct:.2f}% duplicate rows found.\")\n"
   ]
  },
  {
   "cell_type": "markdown",
   "id": "e1d93f96",
   "metadata": {},
   "source": [
    "## Validity Check"
   ]
  },
  {
   "cell_type": "code",
   "execution_count": 15,
   "id": "296b1b23",
   "metadata": {},
   "outputs": [
    {
     "name": "stdout",
     "output_type": "stream",
     "text": [
      "Validity check passed.\n"
     ]
    }
   ],
   "source": [
    "\"\"\"\n",
    "Validity Check:\n",
    "- Age must be between 18 and 90.\n",
    "- Loan_amount must be > 0.\n",
    "- Deposit must be ≥ 0.\n",
    "- APR must be between 0 and 50 (%).\n",
    "\"\"\"\n",
    "\n",
    "validity = {}\n",
    "if \"age\" in df.columns:\n",
    "    validity[\"invalid_age_count\"] = df[(df[\"age\"] < 18) | (df[\"age\"] > 90)].shape[0]\n",
    "if \"loan_amount\" in df.columns:\n",
    "    validity[\"invalid_loan_amount_count\"] = df[df[\"loanamount\"] <= 0].shape[0]\n",
    "if \"deposit\" in df.columns:\n",
    "    validity[\"invalid_deposit_count\"] = df[df[\"deposit\"] < 0].shape[0]\n",
    "if \"apr\" in df.columns:\n",
    "    validity[\"invalid_apr_count\"] = df[(df[\"apr\"] < 0) | (df[\"apr\"] > 50)].shape[0]\n",
    "\n",
    "if all(v == 0 for v in validity.values()):\n",
    "    print(\"Validity check passed.\")\n",
    "else:\n",
    "    print(\"Invalid values found.\")\n",
    "    print(validity)\n"
   ]
  },
  {
   "cell_type": "markdown",
   "id": "a5564468",
   "metadata": {},
   "source": [
    "## Accuracy Check"
   ]
  },
  {
   "cell_type": "code",
   "execution_count": 16,
   "id": "05c8c8da",
   "metadata": {},
   "outputs": [
    {
     "name": "stdout",
     "output_type": "stream",
     "text": [
      "Accuracy check passed.\n"
     ]
    }
   ],
   "source": [
    "\"\"\"\n",
    "Accuracy Check:\n",
    "- Deposit should not exceed Loan Amount.\n",
    "\"\"\"\n",
    "\n",
    "accuracy = {}\n",
    "if \"deposit\" in df.columns and \"loanamount\" in df.columns:\n",
    "    accuracy[\"deposit_gt_loan_count\"] = df[df[\"deposit\"] > df[\"loanamount\"]].shape[0]\n",
    "\n",
    "if all(v == 0 for v in accuracy.values()):\n",
    "    print(\"Accuracy check passed.\")\n",
    "else:\n",
    "    print(\"Potential accuracy issues found.\")\n",
    "    print(accuracy)\n"
   ]
  },
  {
   "cell_type": "markdown",
   "id": "741d98b9",
   "metadata": {},
   "source": [
    "## Integrity Check"
   ]
  },
  {
   "cell_type": "code",
   "execution_count": 17,
   "id": "7389dead",
   "metadata": {},
   "outputs": [
    {
     "name": "stdout",
     "output_type": "stream",
     "text": [
      "Integrity check passed.\n"
     ]
    }
   ],
   "source": [
    "\"\"\"\n",
    "Integrity Check:\n",
    "- Funded = Yes (1) only if Application Outcome = Approved (1).\n",
    "\"\"\"\n",
    "\n",
    "integrity = {}\n",
    "if {\"applicationoutcome\", \"funded\"}.issubset(df.columns):\n",
    "    integrity[\"funded_without_approval\"] = df[\n",
    "        (df[\"funded\"] == 1) & (df[\"applicationoutcome\"] == 0)\n",
    "    ].shape[0]\n",
    "\n",
    "if all(v == 0 for v in integrity.values()):\n",
    "    print(\"Integrity check passed.\")\n",
    "else:\n",
    "    print(\"Integrity violations found.\")\n",
    "    print(integrity)\n"
   ]
  },
  {
   "cell_type": "markdown",
   "id": "dd5a0be0",
   "metadata": {},
   "source": [
    "# Describe Data Distribution"
   ]
  },
  {
   "cell_type": "code",
   "execution_count": 18,
   "id": "fbdc4233",
   "metadata": {},
   "outputs": [
    {
     "name": "stdout",
     "output_type": "stream",
     "text": [
      "                         min       max        mean   median      mode  \\\n",
      "id                       1.0   10000.0      5000.5   5000.5       1.0   \n",
      "age                     18.0      65.0     40.4774     40.0      25.0   \n",
      "loanamount            2502.0   26986.0  11920.4302  11218.5    8624.0   \n",
      "deposit                500.0    6000.0   2668.1421   2364.5     812.0   \n",
      "apr                      0.0      0.25     0.09628      0.1       0.0   \n",
      "applicationoutcome       0.0       1.0       0.647      1.0       1.0   \n",
      "funded                   0.0       1.0      0.3069      0.0       0.0   \n",
      "depositratio        0.020134  0.999573    0.266187   0.2204  0.094156   \n",
      "cartype                  NaN       NaN         NaN      NaN       SUV   \n",
      "area                     NaN       NaN         NaN      NaN     rural   \n",
      "age_bucket               NaN       NaN         NaN      NaN     25-34   \n",
      "apr_pct                  NaN       NaN         NaN      NaN        0%   \n",
      "\n",
      "                                      unique_values n_unique  \n",
      "id                                              NaN      NaN  \n",
      "age                                             NaN      NaN  \n",
      "loanamount                                      NaN      NaN  \n",
      "deposit                                         NaN      NaN  \n",
      "apr                                             NaN      NaN  \n",
      "applicationoutcome                              NaN      NaN  \n",
      "funded                                          NaN      NaN  \n",
      "depositratio                                    NaN      NaN  \n",
      "cartype                  [Convertible, Saloon, SUV]        3  \n",
      "area                                 [rural, urban]        2  \n",
      "age_bucket          [55+, 35-44, 25-34, 45-54, <25]        5  \n",
      "apr_pct                [15%, 20%, 0%, 10%, 5%, 25%]        6  \n"
     ]
    }
   ],
   "source": [
    "\"\"\"\n",
    "Data Description:\n",
    "- For numeric columns: min, max, mean, median, mode\n",
    "- For categorical columns: unique values, count of unique, mode\n",
    "\"\"\"\n",
    "\n",
    "numeric_report = {}\n",
    "categorical_report = {}\n",
    "\n",
    "for col in df.columns:\n",
    "    if pd.api.types.is_numeric_dtype(df[col]):\n",
    "        numeric_report[col] = {\n",
    "            \"min\": df[col].min(),\n",
    "            \"max\": df[col].max(),\n",
    "            \"mean\": df[col].mean(),\n",
    "            \"median\": df[col].median(),\n",
    "            \"mode\": df[col].mode()[0] if not df[col].mode().empty else None\n",
    "        }\n",
    "    else:\n",
    "        categorical_report[col] = {\n",
    "            \"unique_values\": df[col].unique().tolist(),\n",
    "            \"n_unique\": df[col].nunique(),\n",
    "            \"mode\": df[col].mode()[0] if not df[col].mode().empty else None\n",
    "        }\n",
    "\n",
    "# Combine with numeric first, categorical after\n",
    "desc_report_sorted = {**numeric_report, **categorical_report}\n",
    "\n",
    "# Display neatly\n",
    "print(pd.DataFrame(desc_report_sorted).T)"
   ]
  },
  {
   "cell_type": "code",
   "execution_count": null,
   "id": "1bc96bd8",
   "metadata": {},
   "outputs": [],
   "source": []
  }
 ],
 "metadata": {
  "kernelspec": {
   "display_name": ".venv",
   "language": "python",
   "name": "python3"
  },
  "language_info": {
   "codemirror_mode": {
    "name": "ipython",
    "version": 3
   },
   "file_extension": ".py",
   "mimetype": "text/x-python",
   "name": "python",
   "nbconvert_exporter": "python",
   "pygments_lexer": "ipython3",
   "version": "3.13.7"
  }
 },
 "nbformat": 4,
 "nbformat_minor": 5
}
